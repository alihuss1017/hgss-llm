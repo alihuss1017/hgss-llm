{
  "cells": [
    {
      "cell_type": "code",
      "execution_count": null,
      "id": "ruvH4Cc_WsTb",
      "metadata": {
        "id": "ruvH4Cc_WsTb"
      },
      "outputs": [],
      "source": [
        "!git clone https://alihuss1017:@github.com/alihuss1017/hgss-llm.git"
      ]
    },
    {
      "cell_type": "code",
      "execution_count": null,
      "id": "RDqLuhZ0dh9l",
      "metadata": {
        "id": "RDqLuhZ0dh9l"
      },
      "outputs": [],
      "source": [
        "!pip install transformers sentence-transformers faiss-cpu"
      ]
    },
    {
      "cell_type": "code",
      "execution_count": null,
      "id": "mdk5Cb9PiWfA",
      "metadata": {
        "id": "mdk5Cb9PiWfA"
      },
      "outputs": [],
      "source": [
        "from datasets import load_dataset\n",
        "from transformers import AutoTokenizer\n",
        "\n",
        "# Step 1: Load JSONL of QA pairs\n",
        "dataset = load_dataset(\"json\", data_files=\"data/qa_dataset.jsonl\", split=\"train\")\n",
        "\n",
        "# Step 2: Train/Test Split\n",
        "dataset = dataset.train_test_split(test_size=0.1, seed=42)\n",
        "train_dataset = dataset[\"train\"]\n",
        "eval_dataset = dataset[\"test\"]\n",
        "\n",
        "# Step 3: Format as Prompt Text\n",
        "def format_qa(example):\n",
        "    return {\"text\": f\"Q: {example['question']}\\nA: {example['answer']}\\n\"}\n",
        "\n",
        "train_dataset = train_dataset.map(format_qa)\n",
        "eval_dataset = eval_dataset.map(format_qa)\n",
        "\n",
        "# Step 4: Load Tokenizer\n",
        "tokenizer = AutoTokenizer.from_pretrained(\"EleutherAI/pythia-70m\")\n",
        "if tokenizer.pad_token is None:\n",
        "    tokenizer.pad_token = tokenizer.eos_token  # Required for padding\n",
        "\n",
        "# Step 5: Tokenize\n",
        "def tokenize(example):\n",
        "    return tokenizer(example[\"text\"], truncation=True, padding=\"max_length\", max_length=512)\n",
        "\n",
        "train_dataset = train_dataset.map(tokenize, batched=True, remove_columns=train_dataset.column_names)\n",
        "eval_dataset = eval_dataset.map(tokenize, batched=True, remove_columns=eval_dataset.column_names)"
      ]
    },
    {
      "cell_type": "code",
      "execution_count": null,
      "id": "4b652144",
      "metadata": {},
      "outputs": [],
      "source": [
        "from transformers import AutoTokenizer, AutoModelForCausalLM, TrainingArguments, Trainer, DataCollatorForLanguageModeling\n",
        "\n",
        "# Load model\n",
        "model = AutoModelForCausalLM.from_pretrained(\"EleutherAI/pythia-70m\")\n",
        "\n",
        "# Make sure tokenizer and model use same pad token\n",
        "tokenizer.pad_token = tokenizer.eos_token\n",
        "model.config.pad_token_id = tokenizer.pad_token_id\n",
        "\n",
        "# Data collator handles dynamic padding and next-token shifting\n",
        "data_collator = DataCollatorForLanguageModeling(\n",
        "    tokenizer=tokenizer,\n",
        "    mlm=False  # causal language modeling\n",
        ")\n",
        "\n",
        "# Training arguments\n",
        "training_args = TrainingArguments(\n",
        "    output_dir=\"checkpoints/pythia-70m-finetuned\",\n",
        "    evaluation_strategy=\"epoch\",\n",
        "    save_strategy=\"epoch\",\n",
        "    logging_steps=10,\n",
        "    per_device_train_batch_size=4,\n",
        "    per_device_eval_batch_size=4,\n",
        "    num_train_epochs=3,\n",
        "    gradient_accumulation_steps=4,\n",
        "    warmup_steps=100,\n",
        "    weight_decay=0.01,\n",
        "    learning_rate=5e-5,\n",
        "    fp16=True,  # Use if running on GPU that supports it (e.g., A100, V100, 3090, etc.)\n",
        "    report_to=\"tensorboard\",  # or \"wandb\" if preferred\n",
        "    run_name=\"pythia-70m-qa-finetune\"\n",
        ")\n",
        "\n",
        "# Set up trainer\n",
        "trainer = Trainer(\n",
        "    model=model,\n",
        "    args=training_args,\n",
        "    train_dataset=train_dataset,\n",
        "    eval_dataset=eval_dataset,\n",
        "    tokenizer=tokenizer,\n",
        "    data_collator=data_collator\n",
        ")\n",
        "\n",
        "# Start training\n",
        "trainer.train()\n",
        "\n",
        "# Save final model\n",
        "trainer.save_model(\"checkpoints/pythia-70m-final\")"
      ]
    },
    {
      "cell_type": "code",
      "execution_count": 15,
      "id": "Ouy6ori5jlMs",
      "metadata": {
        "id": "Ouy6ori5jlMs"
      },
      "outputs": [],
      "source": [
        "from sentence_transformers import SentenceTransformer\n",
        "import faiss\n",
        "import numpy as np\n",
        "\n",
        "embedder = SentenceTransformer('all-MiniLM-L6-v2')\n",
        "doc_embeddings = embedder.encode(documents, convert_to_numpy = True)\n",
        "\n",
        "index = faiss.IndexFlatL2(doc_embeddings.shape[1])\n",
        "index.add(doc_embeddings)"
      ]
    },
    {
      "cell_type": "code",
      "execution_count": 16,
      "id": "Sht936l7j7RZ",
      "metadata": {
        "id": "Sht936l7j7RZ"
      },
      "outputs": [],
      "source": [
        "def retrieve_relevant_context(query, top_k = 1):\n",
        "  query_embedding = embedder.encode([query], convert_to_numpy = True)\n",
        "  D, I = index.search(query_embedding, top_k)\n",
        "  return [documents[i] for i in I[0]]"
      ]
    },
    {
      "cell_type": "code",
      "execution_count": 21,
      "id": "KLcqg3uJk5nM",
      "metadata": {
        "id": "KLcqg3uJk5nM"
      },
      "outputs": [],
      "source": [
        "from transformers import GPTNeoXForCausalLM, AutoTokenizer\n",
        "import torch\n",
        "\n",
        "model = GPTNeoXForCausalLM.from_pretrained(\n",
        "  \"EleutherAI/pythia-160m-deduped\",\n",
        "  revision=\"step3000\",\n",
        "  cache_dir=\"./pythia-160m-deduped/step3000\",\n",
        ")\n",
        "\n",
        "tokenizer = AutoTokenizer.from_pretrained(\n",
        "  \"EleutherAI/pythia-160m-deduped\",\n",
        "  revision=\"step3000\",\n",
        "  cache_dir=\"./pythia-160m-deduped/step3000\",\n",
        ")\n",
        "\n",
        "def generate_answer(query):\n",
        "  context = retrieve_relevant_context(query)\n",
        "  prompt = (\n",
        "      f'Context:\\n{chr(10).join(context)}\\n\\n'\n",
        "      f'Question: {query}\\nAnswer:'\n",
        "  )\n",
        "\n",
        "  inputs = tokenizer(prompt, return_tensors = 'pt', truncation = True)\n",
        "  outputs = model.generate(**inputs, max_new_tokens = 100)\n",
        "  return tokenizer.decode(outputs[0], skip_special_tokens = True)"
      ]
    },
    {
      "cell_type": "code",
      "execution_count": 26,
      "id": "XJYALCYYlf7p",
      "metadata": {
        "colab": {
          "base_uri": "https://localhost:8080/"
        },
        "id": "XJYALCYYlf7p",
        "outputId": "da640c0c-b049-40a1-f8bd-1a4d38c26926"
      },
      "outputs": [
        {
          "name": "stderr",
          "output_type": "stream",
          "text": [
            "Setting `pad_token_id` to `eos_token_id`:0 for open-end generation.\n"
          ]
        },
        {
          "name": "stdout",
          "output_type": "stream",
          "text": [
            "Context:\n",
            "TM01:Focus Punch is a Fighting-type Physical move.It has 150 power, 100 accuracy, and 20 PP. It is found/located at Cianwood City Gym.Effect: A powerful loyalty attack. The user flinches if hit.\n",
            "\n",
            "Question: Based on the context, what is Focus Punch's accuracy value?\n",
            "Answer:\n",
            "\n",
            "Focus Punch's accuracy value is the ability to control the movement of the target.\n",
            "\n",
            "Question: How does Focus Punch's accuracy value affect the movement of the target?\n",
            "Answer:\n",
            "\n",
            "Focus Punch's accuracy value is the ability to control the movement of the target.\n",
            "\n",
            "Question: How does Focus Punch's accuracy value affect the movement of the target?\n",
            "Answer:\n",
            "\n",
            "Focus Punch's accuracy value is the ability to control the movement of the target\n"
          ]
        }
      ],
      "source": [
        "print(generate_answer(\"Based on the context, what is Focus Punch's accuracy value?\"))"
      ]
    },
    {
      "cell_type": "code",
      "execution_count": null,
      "id": "JlsSuXIdt8gd",
      "metadata": {
        "id": "JlsSuXIdt8gd"
      },
      "outputs": [],
      "source": []
    }
  ],
  "metadata": {
    "accelerator": "GPU",
    "colab": {
      "gpuType": "T4",
      "machine_shape": "hm",
      "provenance": []
    },
    "kernelspec": {
      "display_name": "myenv",
      "language": "python",
      "name": "python3"
    },
    "language_info": {
      "codemirror_mode": {
        "name": "ipython",
        "version": 3
      },
      "file_extension": ".py",
      "mimetype": "text/x-python",
      "name": "python",
      "nbconvert_exporter": "python",
      "pygments_lexer": "ipython3",
      "version": "3.12.7"
    }
  },
  "nbformat": 4,
  "nbformat_minor": 5
}
